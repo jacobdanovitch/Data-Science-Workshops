{
 "cells": [
  {
   "cell_type": "markdown",
   "metadata": {},
   "source": [
    "# Welcome to week 3, part 1\n",
    "\n",
    "Here, you're going to learn about K-Means clustering.\n",
    "\n",
    "## What is k-means clustering?\n",
    "\n",
    "..."
   ]
  },
  {
   "cell_type": "markdown",
   "metadata": {},
   "source": [
    "## The essentials\n",
    "\n",
    "Let's begin by importing all of the packages we need, as well as making some sample data to work on.\n",
    "\n",
    "We'll import all our usual packages for data manipulation and visualization - making sure to include %matplotlib inline when we're working in a notebook - as well as make_blobs(), a function that simply returns a set of ordered pairs, as well their corresponding label."
   ]
  },
  {
   "cell_type": "code",
   "execution_count": 213,
   "metadata": {
    "collapsed": true
   },
   "outputs": [],
   "source": [
    "%matplotlib inline\n",
    "import pandas as pd\n",
    "import matplotlib.pyplot as plt\n",
    "import seaborn as sns\n",
    "import numpy as np\n",
    "import random\n",
    "from IPython.display import display\n",
    "from sklearn.datasets.samples_generator import make_blobs"
   ]
  },
  {
   "cell_type": "code",
   "execution_count": 214,
   "metadata": {
    "collapsed": true
   },
   "outputs": [],
   "source": [
    "from scipy.spatial.distance import euclidean"
   ]
  },
  {
   "cell_type": "markdown",
   "metadata": {},
   "source": [
    "So we set pairs to take the ordered pairs from the make_blobs() function, and labels will receive the value for the cluster each point is assigned to. Let's also throw them into a DataFrame, and preview our data using head().\n",
    "\n",
    "Note that the point of K-Means is that we don't know our clusters! So in a way, we're cheating here. Really, the reason we're using make_blobs() is so that at the end, we can go back and check how accurate we were at clustering our data."
   ]
  },
  {
   "cell_type": "code",
   "execution_count": 215,
   "metadata": {},
   "outputs": [
    {
     "data": {
      "text/html": [
       "<div>\n",
       "<style>\n",
       "    .dataframe thead tr:only-child th {\n",
       "        text-align: right;\n",
       "    }\n",
       "\n",
       "    .dataframe thead th {\n",
       "        text-align: left;\n",
       "    }\n",
       "\n",
       "    .dataframe tbody tr th {\n",
       "        vertical-align: top;\n",
       "    }\n",
       "</style>\n",
       "<table border=\"1\" class=\"dataframe\">\n",
       "  <thead>\n",
       "    <tr style=\"text-align: right;\">\n",
       "      <th></th>\n",
       "      <th>X</th>\n",
       "      <th>Y</th>\n",
       "      <th>Cluster</th>\n",
       "    </tr>\n",
       "  </thead>\n",
       "  <tbody>\n",
       "    <tr>\n",
       "      <th>0</th>\n",
       "      <td>2.199415</td>\n",
       "      <td>0.845589</td>\n",
       "      <td>1</td>\n",
       "    </tr>\n",
       "    <tr>\n",
       "      <th>1</th>\n",
       "      <td>0.752403</td>\n",
       "      <td>4.400513</td>\n",
       "      <td>0</td>\n",
       "    </tr>\n",
       "    <tr>\n",
       "      <th>2</th>\n",
       "      <td>2.292081</td>\n",
       "      <td>0.858911</td>\n",
       "      <td>1</td>\n",
       "    </tr>\n",
       "    <tr>\n",
       "      <th>3</th>\n",
       "      <td>0.572796</td>\n",
       "      <td>4.250602</td>\n",
       "      <td>0</td>\n",
       "    </tr>\n",
       "    <tr>\n",
       "      <th>4</th>\n",
       "      <td>0.714132</td>\n",
       "      <td>3.948783</td>\n",
       "      <td>0</td>\n",
       "    </tr>\n",
       "    <tr>\n",
       "      <th>5</th>\n",
       "      <td>0.889292</td>\n",
       "      <td>4.342875</td>\n",
       "      <td>0</td>\n",
       "    </tr>\n",
       "    <tr>\n",
       "      <th>6</th>\n",
       "      <td>-1.813771</td>\n",
       "      <td>2.808427</td>\n",
       "      <td>2</td>\n",
       "    </tr>\n",
       "    <tr>\n",
       "      <th>7</th>\n",
       "      <td>-1.289549</td>\n",
       "      <td>2.939770</td>\n",
       "      <td>2</td>\n",
       "    </tr>\n",
       "    <tr>\n",
       "      <th>8</th>\n",
       "      <td>2.223341</td>\n",
       "      <td>0.999529</td>\n",
       "      <td>1</td>\n",
       "    </tr>\n",
       "    <tr>\n",
       "      <th>9</th>\n",
       "      <td>0.817690</td>\n",
       "      <td>4.213102</td>\n",
       "      <td>0</td>\n",
       "    </tr>\n",
       "  </tbody>\n",
       "</table>\n",
       "</div>"
      ],
      "text/plain": [
       "          X         Y  Cluster\n",
       "0  2.199415  0.845589        1\n",
       "1  0.752403  4.400513        0\n",
       "2  2.292081  0.858911        1\n",
       "3  0.572796  4.250602        0\n",
       "4  0.714132  3.948783        0\n",
       "5  0.889292  4.342875        0\n",
       "6 -1.813771  2.808427        2\n",
       "7 -1.289549  2.939770        2\n",
       "8  2.223341  0.999529        1\n",
       "9  0.817690  4.213102        0"
      ]
     },
     "metadata": {},
     "output_type": "display_data"
    }
   ],
   "source": [
    "pairs, labels = make_blobs(n_samples=100, cluster_std=0.25, centers=3, n_features=2, random_state=0)\n",
    "df = pd.DataFrame(pairs, columns=['X','Y'])\n",
    "df['Cluster'] = labels\n",
    "display(df.head(10))"
   ]
  },
  {
   "cell_type": "markdown",
   "metadata": {},
   "source": [
    "## Visualizing our data\n",
    "\n",
    "Perfect. So now we know what our data looks like numerically. What about visualy? Let's plot our data to get a feel for what it looks like."
   ]
  },
  {
   "cell_type": "code",
   "execution_count": 216,
   "metadata": {},
   "outputs": [
    {
     "data": {
      "text/plain": [
       "<matplotlib.collections.PathCollection at 0x2009a470160>"
      ]
     },
     "execution_count": 216,
     "metadata": {},
     "output_type": "execute_result"
    },
    {
     "data": {
      "image/png": "[encoded data removed]",
      "text/plain": [
       "<matplotlib.figure.Figure at 0x2009a153e80>"
      ]
     },
     "metadata": {},
     "output_type": "display_data"
    }
   ],
   "source": [
    "plt.scatter(df['X'], df['Y'])"
   ]
  },
  {
   "cell_type": "markdown",
   "metadata": {},
   "source": [
    "Looking good. As we can see, there are three distinct clusters in our data. Remember, we're trying to find the centroids of these clusters. Let's take a rough look at where they are. We'll add an axis to our plot, and then add a few circles that are roughly estimating where these centroids are. "
   ]
  },
  {
   "cell_type": "code",
   "execution_count": 217,
   "metadata": {},
   "outputs": [
    {
     "data": {
      "text/plain": [
       "<matplotlib.patches.Circle at 0x2009a3565c0>"
      ]
     },
     "execution_count": 217,
     "metadata": {},
     "output_type": "execute_result"
    },
    {
     "data": {
      "image/png": "[encoded data removed]",
      "text/plain": [
       "<matplotlib.figure.Figure at 0x2009a4709b0>"
      ]
     },
     "metadata": {},
     "output_type": "display_data"
    }
   ],
   "source": [
    "plt.scatter(df['X'], df['Y'])\n",
    "ax = plt.gca() #add an axis\n",
    "\n",
    "guesses = np.array([np.array([-1.5, 3]), np.array([1, 4.25]), np.array([2, 1])]) #coordinates for our guesses\n",
    "\n",
    "ax.add_artist(plt.Circle(guesses[0], 0.25, fill=False, lw=2, color='red')) #rough guess for centroid one\n",
    "ax.add_artist(plt.Circle(guesses[1], 0.25, fill=False, lw=2, color='red')) #centroid two\n",
    "ax.add_artist(plt.Circle(guesses[2], 0.25, fill=False, lw=2, color='red')) #centroid three"
   ]
  },
  {
   "cell_type": "markdown",
   "metadata": {},
   "source": [
    "## Analyzing our data\n",
    "\n",
    "Now we can get to work on our clustering. First, let's get rid of our cluster labels, and take only our data points. Let's lose our cluster labels - which we aren't supposed to know! - and take a peak at what we have for our ordered pairs."
   ]
  },
  {
   "cell_type": "code",
   "execution_count": 218,
   "metadata": {},
   "outputs": [
    {
     "data": {
      "text/html": [
       "<div>\n",
       "<style>\n",
       "    .dataframe thead tr:only-child th {\n",
       "        text-align: right;\n",
       "    }\n",
       "\n",
       "    .dataframe thead th {\n",
       "        text-align: left;\n",
       "    }\n",
       "\n",
       "    .dataframe tbody tr th {\n",
       "        vertical-align: top;\n",
       "    }\n",
       "</style>\n",
       "<table border=\"1\" class=\"dataframe\">\n",
       "  <thead>\n",
       "    <tr style=\"text-align: right;\">\n",
       "      <th></th>\n",
       "      <th>X</th>\n",
       "      <th>Y</th>\n",
       "    </tr>\n",
       "  </thead>\n",
       "  <tbody>\n",
       "    <tr>\n",
       "      <th>0</th>\n",
       "      <td>2.199415</td>\n",
       "      <td>0.845589</td>\n",
       "    </tr>\n",
       "    <tr>\n",
       "      <th>1</th>\n",
       "      <td>0.752403</td>\n",
       "      <td>4.400513</td>\n",
       "    </tr>\n",
       "    <tr>\n",
       "      <th>2</th>\n",
       "      <td>2.292081</td>\n",
       "      <td>0.858911</td>\n",
       "    </tr>\n",
       "  </tbody>\n",
       "</table>\n",
       "</div>"
      ],
      "text/plain": [
       "          X         Y\n",
       "0  2.199415  0.845589\n",
       "1  0.752403  4.400513\n",
       "2  2.292081  0.858911"
      ]
     },
     "metadata": {},
     "output_type": "display_data"
    }
   ],
   "source": [
    "points = df[['X','Y']]\n",
    "display(points.head(3))"
   ]
  },
  {
   "cell_type": "markdown",
   "metadata": {},
   "source": [
    "So now we have all of our ordered pairs. We'll begin our clustering by taking three random elements from our set of points. In order to take a random sample from a DataFrame, we'll use pandas' DataFrame.sample(). We'll take just the values, giving us an array and making them easier to work with."
   ]
  },
  {
   "cell_type": "code",
   "execution_count": 219,
   "metadata": {},
   "outputs": [
    {
     "data": {
      "text/plain": [
       "array([[ 1.054537  ,  4.09026339],\n",
       "       [-1.71179476,  3.30363591],\n",
       "       [ 2.34996241,  0.85268245]])"
      ]
     },
     "metadata": {},
     "output_type": "display_data"
    }
   ],
   "source": [
    "def choose_centroids(points, k):\n",
    "    return points.sample(k).values\n",
    "\n",
    "centroids = choose_centroids(points, 3)\n",
    "display(centroids)"
   ]
  },
  {
   "cell_type": "markdown",
   "metadata": {},
   "source": [
    "Let's plot our randomly chosen centroids, and see how close they are..."
   ]
  },
  {
   "cell_type": "code",
   "execution_count": 220,
   "metadata": {},
   "outputs": [
    {
     "data": {
      "text/plain": [
       "<matplotlib.collections.PathCollection at 0x2009a5a8cf8>"
      ]
     },
     "execution_count": 220,
     "metadata": {},
     "output_type": "execute_result"
    },
    {
     "data": {
      "image/png": "[encoded data removed]",
      "text/plain": [
       "<matplotlib.figure.Figure at 0x2009a205978>"
      ]
     },
     "metadata": {},
     "output_type": "display_data"
    }
   ],
   "source": [
    "plt.scatter(points.iloc[:, 0], points.iloc[:, 1])\n",
    "plt.scatter(centroids[:, 0], centroids[:, 1], c='r', s=100)"
   ]
  },
  {
   "cell_type": "markdown",
   "metadata": {},
   "source": [
    "Our leftmost centroid is pretty close, and the one for the top cluster is really close, but the centroid for our right-hand cluster is a little bit lost. That's why we have K-Means!\n",
    "\n",
    "Now, let's figure out how to show that lost centroid how to find his destination. We'll create a function that takes each of our ordered pairs, and returns the closest centroid."
   ]
  },
  {
   "cell_type": "code",
   "execution_count": 221,
   "metadata": {},
   "outputs": [
    {
     "data": {
      "text/plain": [
       "0    2\n",
       "1    0\n",
       "2    2\n",
       "3    0\n",
       "4    0\n",
       "Name: closest, dtype: int64"
      ]
     },
     "execution_count": 221,
     "metadata": {},
     "output_type": "execute_result"
    }
   ],
   "source": [
    "def closest_centroid(points, centroids):\n",
    "    distances = []\n",
    "    for i in range(len(points)):\n",
    "        centroid_distances = []\n",
    "        for j in range(len(centroids)):\n",
    "            centroid_distances.append(euclidean(points.loc[i].values, centroids[j]))\n",
    "        distances.append(np.argmin(centroid_distances, axis=0))        \n",
    "    return np.array(distances)\n",
    "\n",
    "points['closest'] = closest_centroid(points, centroids)\n",
    "points['closest'].head(5)"
   ]
  },
  {
   "cell_type": "markdown",
   "metadata": {},
   "source": [
    "We'll also create a function that moves our centroids in the right direction towards their cluster."
   ]
  },
  {
   "cell_type": "code",
   "execution_count": 222,
   "metadata": {},
   "outputs": [
    {
     "data": {
      "text/plain": [
       "[2.7774689142978133, 2.8721831110562017, 0.3797053484170004]"
      ]
     },
     "execution_count": 222,
     "metadata": {},
     "output_type": "execute_result"
    }
   ],
   "source": [
    "def error(centroids, estimate=guesses):\n",
    "    error = []\n",
    "    for i in range(len(centroids)):\n",
    "        error.append(euclidean(centroids[i], guesses[i]))\n",
    "    return error\n",
    "\n",
    "error(centroids)"
   ]
  },
  {
   "cell_type": "code",
   "execution_count": 223,
   "metadata": {},
   "outputs": [
    {
     "data": {
      "text/plain": [
       "array([[ 0.94549287,  4.28507923],\n",
       "       [-1.54147775,  2.91009432],\n",
       "       [ 2.07628212,  1.0111889 ]])"
      ]
     },
     "execution_count": 223,
     "metadata": {},
     "output_type": "execute_result"
    }
   ],
   "source": [
    "def update_centroids(points, closest, centroids, cutoff=0.2):\n",
    "    centroid_means = []\n",
    "    for k in range(centroids.shape[0]):\n",
    "        mean = points[points['closest']==k].iloc[:,:2].mean()\n",
    "        centroid_means.append(mean)\n",
    "    return(np.array(centroid_means))\n",
    "\n",
    "update_centroids(points, closest, centroids)"
   ]
  },
  {
   "cell_type": "code",
   "execution_count": 224,
   "metadata": {},
   "outputs": [
    {
     "data": {
      "text/plain": [
       "<matplotlib.collections.PathCollection at 0x2009a63dba8>"
      ]
     },
     "execution_count": 224,
     "metadata": {},
     "output_type": "execute_result"
    },
    {
     "data": {
      "image/png": "[encoded data removed]",
      "text/plain": [
       "<matplotlib.figure.Figure at 0x2009a496d68>"
      ]
     },
     "metadata": {},
     "output_type": "display_data"
    }
   ],
   "source": [
    "centroids = choose_centroids(points, 3)\n",
    "closest = closest_centroid(points, centroids)\n",
    "for i in range(2):\n",
    "    centroids = update_centroids(points, closest, centroids)\n",
    "\n",
    "plt.scatter(points.iloc[:, 0], points.iloc[:, 1])\n",
    "plt.scatter(centroids[:, 0], centroids[:, 1], c='r', s=100)"
   ]
  },
  {
   "cell_type": "code",
   "execution_count": null,
   "metadata": {
    "collapsed": true
   },
   "outputs": [],
   "source": []
  },
  {
   "cell_type": "code",
   "execution_count": null,
   "metadata": {
    "collapsed": true
   },
   "outputs": [],
   "source": []
  }
 ],
 "metadata": {
  "kernelspec": {
   "display_name": "Python 3",
   "language": "python",
   "name": "python3"
  },
  "language_info": {
   "codemirror_mode": {
    "name": "ipython",
    "version": 3
   },
   "file_extension": ".py",
   "mimetype": "text/x-python",
   "name": "python",
   "nbconvert_exporter": "python",
   "pygments_lexer": "ipython3",
   "version": "3.6.1"
  }
 },
 "nbformat": 4,
 "nbformat_minor": 2
}
